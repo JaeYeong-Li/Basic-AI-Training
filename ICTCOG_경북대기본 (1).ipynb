{
  "nbformat": 4,
  "nbformat_minor": 0,
  "metadata": {
    "kernelspec": {
      "display_name": "Python 3",
      "language": "python",
      "name": "python3"
    },
    "language_info": {
      "codemirror_mode": {
        "name": "ipython",
        "version": 3
      },
      "file_extension": ".py",
      "mimetype": "text/x-python",
      "name": "python",
      "nbconvert_exporter": "python",
      "pygments_lexer": "ipython3",
      "version": "3.7.6"
    },
    "colab": {
      "name": "ICTCOG_경북대기본 (1).ipynb",
      "provenance": []
    }
  },
  "cells": [
    {
      "cell_type": "markdown",
      "metadata": {
        "id": "jGRjJTbtu2v5"
      },
      "source": [
        "# [ICTCOG] 4기 경북대 기본반\n",
        "\n",
        "- [파이썬 공식문서]https://docs.python.org/ko/3/\n",
        "\n",
        "공식문서 참고해주세요.\n",
        "* [Python 기본1](#Python-기본1)\n",
        "    * [Identifier](#Identifier)\n",
        "    * [할당](#할당)\n",
        "    * [값](#값)\n",
        "        * [숫자형 4가지](#숫자형)\n",
        "        * [문자형 3가지](#문자형)\n",
        "    * [Container](#Container)\n",
        "\n",
        "\n",
        "\n",
        "---\n",
        "계획\n",
        "- python 10회\n",
        "- array programming\n",
        "- BD\n",
        "- AI \n",
        "> 딥러닝 기본하고 심화를 할 예정이니 공부 장기 계획 세워서 꾸준히 복습\n",
        "---\n",
        "## Python 기본1\n"
      ]
    },
    {
      "cell_type": "markdown",
      "metadata": {
        "id": "knrFeUFku2v-"
      },
      "source": [
        "-  파이썬 언어 레퍼런스 참고: https://docs.python.org/ko/3/reference/index.html\n",
        "\n",
        "\n",
        "식별자(identifier)/이름(name) =   표현식(expression)\n",
        "\n",
        "## Identifier\n",
        "- 일반적인 프로그래밍에서는 변수라 불리지만 python에서는 할당 연산자`=` 기준으로 왼쪽은 identifier/name(식별자) \n",
        "- 다양한 자료형 할당 가능\n",
        "- keyword는 이름으로 사용할 수 없음"
      ]
    },
    {
      "cell_type": "code",
      "metadata": {
        "id": "jdUIoZkju2v_"
      },
      "source": [
        "a=1 #식별자 a"
      ],
      "execution_count": null,
      "outputs": []
    },
    {
      "cell_type": "code",
      "metadata": {
        "id": "TepbCLdau2v_",
        "outputId": "e746566a-3a34-4d30-ca78-fc4a149fd511"
      },
      "source": [
        "%whos  #메모리 할당 되어 있음"
      ],
      "execution_count": null,
      "outputs": [
        {
          "output_type": "stream",
          "text": [
            "No variables match your requested type.\n"
          ],
          "name": "stdout"
        }
      ]
    },
    {
      "cell_type": "code",
      "metadata": {
        "id": "tWiPbLGQu2wA",
        "outputId": "a1d963e5-c045-4d65-a6b7-9727ddb7e70d"
      },
      "source": [
        "b #NameError 식별자 b 없음"
      ],
      "execution_count": null,
      "outputs": [
        {
          "output_type": "error",
          "ename": "NameError",
          "evalue": "name 'b' is not defined",
          "traceback": [
            "\u001b[1;31m---------------------------------------------------------------------------\u001b[0m",
            "\u001b[1;31mNameError\u001b[0m                                 Traceback (most recent call last)",
            "\u001b[1;32m<ipython-input-5-48650691fe20>\u001b[0m in \u001b[0;36m<module>\u001b[1;34m\u001b[0m\n\u001b[1;32m----> 1\u001b[1;33m \u001b[0mb\u001b[0m \u001b[1;31m#NameError (식별자가 없음)\u001b[0m\u001b[1;33m\u001b[0m\u001b[1;33m\u001b[0m\u001b[0m\n\u001b[0m",
            "\u001b[1;31mNameError\u001b[0m: name 'b' is not defined"
          ]
        }
      ]
    },
    {
      "cell_type": "code",
      "metadata": {
        "id": "UTky3vtWu2wB"
      },
      "source": [
        "import keyword  #"
      ],
      "execution_count": null,
      "outputs": []
    },
    {
      "cell_type": "code",
      "metadata": {
        "id": "o5svJrd4u2wB",
        "outputId": "a5353532-2a94-40f4-f216-097cf9b329e6"
      },
      "source": [
        "dir(keyword) # __ __ magic methods\r\n",
        "/*\r\n",
        "magic method란\r\n",
        "- Magic Method, Special Method라고도 불림\r\n",
        "- 파이썬이 내부적으로 구현된(빌트인) 메소드를 구현함 //이미 만들어짐\r\n",
        "- 더블 언더스코어를 사용한 것들이 Magic method(__ __)\r\n",
        "- ex. int\r\n",
        "  print(dir(int)) #모든 속성 및 메소드 출력\r\n",
        "  dir 출력 결과를 보면, 더블 언더스코어로 시작하는 많은 메소드를 볼 수 있음\r\n",
        "  __new__ : 새로운 인스턴스를 만들 때 제일 처음으로 실행되는 메소드, 새로운 object를 return\r\n",
        "  __init__: 인스턴스가 __new__로 생성된 후, 호출되는 메소드\r\n",
        "  __add__:  더하는 메소드, print(n+10) == print(n.__add__(10))\r\n",
        "  __doc__:  Docstring을 출력하는 메소드\r\n",
        "  __bool__: Boolean 유무를 나타내는 메소드\r\n",
        "  __le__:  작거나 같다. <=\r\n",
        "  등\r\n",
        "*/"
      ],
      "execution_count": null,
      "outputs": [
        {
          "output_type": "execute_result",
          "data": {
            "text/plain": [
              "['__all__',\n",
              " '__builtins__',\n",
              " '__cached__',\n",
              " '__doc__',\n",
              " '__file__',\n",
              " '__loader__',\n",
              " '__name__',\n",
              " '__package__',\n",
              " '__spec__',\n",
              " 'iskeyword',\n",
              " 'kwlist',\n",
              " 'main']"
            ]
          },
          "metadata": {
            "tags": []
          },
          "execution_count": 7
        }
      ]
    },
    {
      "cell_type": "code",
      "metadata": {
        "id": "NljeKOSiu2wB",
        "outputId": "d276c626-5adf-4835-fe3f-aa3e56cadd94"
      },
      "source": [
        "keyword.kwlist #. 접근 가능"
      ],
      "execution_count": null,
      "outputs": [
        {
          "output_type": "execute_result",
          "data": {
            "text/plain": [
              "['False',\n",
              " 'None',\n",
              " 'True',\n",
              " 'and',\n",
              " 'as',\n",
              " 'assert',\n",
              " 'async',\n",
              " 'await',\n",
              " 'break',\n",
              " 'class',\n",
              " 'continue',\n",
              " 'def',\n",
              " 'del',\n",
              " 'elif',\n",
              " 'else',\n",
              " 'except',\n",
              " 'finally',\n",
              " 'for',\n",
              " 'from',\n",
              " 'global',\n",
              " 'if',\n",
              " 'import',\n",
              " 'in',\n",
              " 'is',\n",
              " 'lambda',\n",
              " 'nonlocal',\n",
              " 'not',\n",
              " 'or',\n",
              " 'pass',\n",
              " 'raise',\n",
              " 'return',\n",
              " 'try',\n",
              " 'while',\n",
              " 'with',\n",
              " 'yield']"
            ]
          },
          "metadata": {
            "tags": []
          },
          "execution_count": 8
        }
      ]
    },
    {
      "cell_type": "code",
      "metadata": {
        "id": "_jVVZnp9u2wC",
        "outputId": "1697b667-09a5-40fc-9596-d489218bbe51"
      },
      "source": [
        "len(keyword.kwlist) #35개 키워드가 있으며 이름/식별자로 사용 불가"
      ],
      "execution_count": null,
      "outputs": [
        {
          "output_type": "execute_result",
          "data": {
            "text/plain": [
              "35"
            ]
          },
          "metadata": {
            "tags": []
          },
          "execution_count": 9
        }
      ]
    },
    {
      "cell_type": "markdown",
      "metadata": {
        "id": "DtvfZlf6u2wC"
      },
      "source": [
        "### PEP\n",
        "- PEP(Python Enhancement Proposal) : 파이썬 개선하기위해 제안\n",
        "- 자비로운 종신 독재자인 Python 창시자 귀도 반 로섬이 최종적으로 결정함 \n",
        "- 자비로운 종신 독재자(BDFL)란 소수의 오픈 소스 소프트웨어 개발 리더에게 부여되는 칭호이다. 주로 커뮤니티 내에서 논쟁이 있을 때 최종적으로 결론을 내려줄 수 있는, 프로젝트 창시자인 경우가 많다.\n",
        "    \n",
        "> 표준\n",
        "> - standard(표준)- 위에서 결정\n",
        "        - 따르지 않으면 에러 발생\n",
        "> - de facto(사실상 표준),  recommendation(권장사항)\n",
        "        - 다양한 사람들이 많이 사용해서 표준이 됨\n",
        "        - coding style guide 따라야 하는 이유는 협업을 해야하기 때문에 중요함\n",
        "        > - Web Standard : 권장사항을 표준처럼\n",
        "\n",
        "#### PEP 8 권장 사항\n",
        "- pep8 : python 타입에 따라서 이름 정하는 **권장사항**\n",
        "       \n",
        "1. Snake\n",
        "    - function\n",
        "    - `hello_world`\n",
        "\n",
        "2. Camel\n",
        "    - class \n",
        "    - `helloWorld`\n",
        "3. Capsword / Pascal\n",
        "    - `HelloWorld`\n",
        "4. 상수\n",
        "    -\n",
        "거꾸로 식별자를 보고 타입 유추가 가능해짐"
      ]
    },
    {
      "cell_type": "markdown",
      "metadata": {
        "id": "11Fk87CGu2wD"
      },
      "source": [
        "- 숫자와 특수문자로 시작 불가"
      ]
    },
    {
      "cell_type": "code",
      "metadata": {
        "id": "ZWea508Yu2wD",
        "outputId": "1a1cee6d-49fb-4d90-ebe0-fdfb5055a3bb"
      },
      "source": [
        "1a=1 "
      ],
      "execution_count": null,
      "outputs": [
        {
          "output_type": "error",
          "ename": "SyntaxError",
          "evalue": "invalid syntax (<ipython-input-10-fbf1bec92ff8>, line 1)",
          "traceback": [
            "\u001b[1;36m  File \u001b[1;32m\"<ipython-input-10-fbf1bec92ff8>\"\u001b[1;36m, line \u001b[1;32m1\u001b[0m\n\u001b[1;33m    1a=1\u001b[0m\n\u001b[1;37m     ^\u001b[0m\n\u001b[1;31mSyntaxError\u001b[0m\u001b[1;31m:\u001b[0m invalid syntax\n"
          ]
        }
      ]
    },
    {
      "cell_type": "code",
      "metadata": {
        "id": "iDWeZ-1Ku2wD"
      },
      "source": [
        "_a=1 # 9가지의 의미를 갖는 _ "
      ],
      "execution_count": null,
      "outputs": []
    },
    {
      "cell_type": "markdown",
      "metadata": {
        "id": "koxlhzhxu2wD"
      },
      "source": [
        "- python에서는 상수가 없어서 상수처럼 취급해야함"
      ]
    },
    {
      "cell_type": "code",
      "metadata": {
        "id": "kfey0HcNu2wD"
      },
      "source": [
        "HELLOWORLD # CAPITAL 상수constant : 바꿀수 없는 값 ( c: const. Java final)으로 재할당 불가\n",
        "hello      # module/ variable(단순한 값 할당)"
      ],
      "execution_count": null,
      "outputs": []
    },
    {
      "cell_type": "markdown",
      "metadata": {
        "id": "hkPlgGbau2wE"
      },
      "source": [
        "- C, Java에서는 선언, 할당을 따로 하지만 python에서는 function, class외에 선언없이 할당\n",
        "- [함수,클래스 정의](https://docs.python.org/ko/3/reference/compound_stmts.html#function-definitions)\n",
        "## 할당    \n",
        "### 할당 방법 6가지"
      ]
    },
    {
      "cell_type": "markdown",
      "metadata": {
        "id": "3zAUtPDXu2wE"
      },
      "source": [
        "1. 기본할당문"
      ]
    },
    {
      "cell_type": "code",
      "metadata": {
        "id": "CW9g3RKMu2wE"
      },
      "source": [
        "a=2  #기본"
      ],
      "execution_count": null,
      "outputs": []
    },
    {
      "cell_type": "markdown",
      "metadata": {
        "id": "itoKWkIru2wE"
      },
      "source": [
        "2. Unpacking    \n",
        "- 값과 식별자의 갯수가 동일"
      ]
    },
    {
      "cell_type": "code",
      "metadata": {
        "id": "gK8tRGn7u2wE",
        "outputId": "9c8dbb0a-2896-4e8c-ae12-386ec6092a62"
      },
      "source": [
        "a,b=1,2 #unpacking\n",
        "a,b"
      ],
      "execution_count": null,
      "outputs": [
        {
          "output_type": "execute_result",
          "data": {
            "text/plain": [
              "(1, 2)"
            ]
          },
          "metadata": {
            "tags": []
          },
          "execution_count": 21
        }
      ]
    },
    {
      "cell_type": "code",
      "metadata": {
        "id": "ebcankVdu2wF"
      },
      "source": [
        "a ,b= b,a #swap , dynamic programming"
      ],
      "execution_count": null,
      "outputs": []
    },
    {
      "cell_type": "code",
      "metadata": {
        "id": "JOTpektCu2wF",
        "outputId": "86c4e937-9d96-4011-d414-cceff842ee24"
      },
      "source": [
        "a,b #내부적으로 동시에 swapping (dynamic programming에서 코드를 줄임)"
      ],
      "execution_count": null,
      "outputs": [
        {
          "output_type": "execute_result",
          "data": {
            "text/plain": [
              "(2, 1)"
            ]
          },
          "metadata": {
            "tags": []
          },
          "execution_count": 19
        }
      ]
    },
    {
      "cell_type": "markdown",
      "metadata": {
        "id": "D943AdGXu2wF"
      },
      "source": [
        "3. 복합할당문"
      ]
    },
    {
      "cell_type": "code",
      "metadata": {
        "id": "bSycDFTdu2wG",
        "outputId": "4e6f347f-63c9-4435-a2c1-c54b3a582a18"
      },
      "source": [
        "a=b=c=3  #mutable, immutable 개념에서 중요함\n",
        "a,b,c   "
      ],
      "execution_count": null,
      "outputs": [
        {
          "output_type": "execute_result",
          "data": {
            "text/plain": [
              "(3, 3, 3)"
            ]
          },
          "metadata": {
            "tags": []
          },
          "execution_count": 26
        }
      ]
    },
    {
      "cell_type": "code",
      "metadata": {
        "id": "9JWvvcy_u2wG",
        "outputId": "e1f6d911-b793-46a6-bcf3-56fa1dd11844"
      },
      "source": [
        "a=4\n",
        "a,b,c"
      ],
      "execution_count": null,
      "outputs": [
        {
          "output_type": "execute_result",
          "data": {
            "text/plain": [
              "(4, 3, 3)"
            ]
          },
          "metadata": {
            "tags": []
          },
          "execution_count": 28
        }
      ]
    },
    {
      "cell_type": "code",
      "metadata": {
        "id": "0nOee-gdu2wG",
        "outputId": "75867afa-7488-4c8d-dc6a-05769e91a397"
      },
      "source": [
        "a=b=c=[1,2] #list 할당한 경우 변경됨\n",
        "a,b,c"
      ],
      "execution_count": null,
      "outputs": [
        {
          "output_type": "execute_result",
          "data": {
            "text/plain": [
              "([1, 2], [1, 2], [1, 2])"
            ]
          },
          "metadata": {
            "tags": []
          },
          "execution_count": 31
        }
      ]
    },
    {
      "cell_type": "code",
      "metadata": {
        "id": "icgoKitDu2wG",
        "outputId": "4003ad72-95c3-4b2c-fee0-2d0dbe601f79"
      },
      "source": [
        "c.append(3)   #\n",
        "a,b,c "
      ],
      "execution_count": null,
      "outputs": [
        {
          "output_type": "execute_result",
          "data": {
            "text/plain": [
              "([1, 2, 3], [1, 2, 3], [1, 2, 3])"
            ]
          },
          "metadata": {
            "tags": []
          },
          "execution_count": 30
        }
      ]
    },
    {
      "cell_type": "code",
      "metadata": {
        "id": "Hs1r2RnZu2wH"
      },
      "source": [
        "a=1,2 #tuple은 () 생략 가능\n",
        "a"
      ],
      "execution_count": null,
      "outputs": []
    },
    {
      "cell_type": "code",
      "metadata": {
        "id": "4pIBGTTJu2wH",
        "outputId": "e54875ea-9e28-4209-ebba-395baad5a0c8"
      },
      "source": [
        "a=(1,2) #위와 동일\n",
        "a"
      ],
      "execution_count": null,
      "outputs": [
        {
          "output_type": "execute_result",
          "data": {
            "text/plain": [
              "(1, 2)"
            ]
          },
          "metadata": {
            "tags": []
          },
          "execution_count": 34
        }
      ]
    },
    {
      "cell_type": "code",
      "metadata": {
        "id": "LnZiArphu2wH",
        "outputId": "82eea290-27fe-41ca-e389-2556f0ffa3e0"
      },
      "source": [
        "a=1,\n",
        "a"
      ],
      "execution_count": null,
      "outputs": [
        {
          "output_type": "execute_result",
          "data": {
            "text/plain": [
              "(1,)"
            ]
          },
          "metadata": {
            "tags": []
          },
          "execution_count": 36
        }
      ]
    },
    {
      "cell_type": "code",
      "metadata": {
        "id": "OkP5D_b5u2wH"
      },
      "source": [
        "a,b=(1,2) \n",
        "a,b=1,2"
      ],
      "execution_count": null,
      "outputs": []
    },
    {
      "cell_type": "code",
      "metadata": {
        "id": "cbqoNE5Zu2wH"
      },
      "source": [
        "a,b =[1,2] #sequence 타입 unpacking"
      ],
      "execution_count": null,
      "outputs": []
    },
    {
      "cell_type": "code",
      "metadata": {
        "id": "kYNs-KY0u2wI",
        "outputId": "18ab8949-8246-4045-8c62-7693dd415567"
      },
      "source": [
        "#unpacking 에서는 갯수를 맞춰야함 ValueError\n",
        "a,b=1,2,3"
      ],
      "execution_count": null,
      "outputs": [
        {
          "output_type": "error",
          "ename": "ValueError",
          "evalue": "too many values to unpack (expected 2)",
          "traceback": [
            "\u001b[1;31m---------------------------------------------------------------------------\u001b[0m",
            "\u001b[1;31mValueError\u001b[0m                                Traceback (most recent call last)",
            "\u001b[1;32m<ipython-input-46-7aa00e18c798>\u001b[0m in \u001b[0;36m<module>\u001b[1;34m\u001b[0m\n\u001b[0;32m      1\u001b[0m \u001b[1;31m#unpacking 에서는 갯수를 맞춰야함\u001b[0m\u001b[1;33m\u001b[0m\u001b[1;33m\u001b[0m\u001b[1;33m\u001b[0m\u001b[0m\n\u001b[1;32m----> 2\u001b[1;33m \u001b[0ma\u001b[0m\u001b[1;33m,\u001b[0m\u001b[0mb\u001b[0m\u001b[1;33m=\u001b[0m\u001b[1;36m1\u001b[0m\u001b[1;33m,\u001b[0m\u001b[1;36m2\u001b[0m\u001b[1;33m,\u001b[0m\u001b[1;36m3\u001b[0m\u001b[1;33m\u001b[0m\u001b[1;33m\u001b[0m\u001b[0m\n\u001b[0m",
            "\u001b[1;31mValueError\u001b[0m: too many values to unpack (expected 2)"
          ]
        }
      ]
    },
    {
      "cell_type": "markdown",
      "metadata": {
        "id": "JlUG0ReFu2wI"
      },
      "source": [
        "4. Starred 할당문\n",
        "    - *:나머지 할당 (가변적 형태이므로 리스트)\n",
        "    - 2번 이상 못씀"
      ]
    },
    {
      "cell_type": "code",
      "metadata": {
        "id": "ElPMz5mku2wI"
      },
      "source": [
        "a,*b=1,2,3,4 #b에 나머지 값 크기를 가변으로 만들 수 있는 list로 할당"
      ],
      "execution_count": null,
      "outputs": []
    },
    {
      "cell_type": "code",
      "metadata": {
        "id": "Zp0FVOrsu2wI",
        "outputId": "c5e3f31d-322b-4d35-dc69-6daa8aeca64b"
      },
      "source": [
        "b"
      ],
      "execution_count": null,
      "outputs": [
        {
          "output_type": "execute_result",
          "data": {
            "text/plain": [
              "[2, 3, 4]"
            ]
          },
          "metadata": {
            "tags": []
          },
          "execution_count": 50
        }
      ]
    },
    {
      "cell_type": "code",
      "metadata": {
        "id": "RfbWC3pou2wI",
        "outputId": "a320ad8e-1db1-49a8-e9b0-9155fdae6457"
      },
      "source": [
        "*a,b=1,2,3,4\n",
        "a   #1,2,3 "
      ],
      "execution_count": null,
      "outputs": [
        {
          "output_type": "execute_result",
          "data": {
            "text/plain": [
              "[1, 2, 3]"
            ]
          },
          "metadata": {
            "tags": []
          },
          "execution_count": 52
        }
      ]
    },
    {
      "cell_type": "code",
      "metadata": {
        "id": "4YMusYCDu2wJ",
        "outputId": "cfc9b00d-cf8d-4019-e1b9-104e2fe9cb55"
      },
      "source": [
        "a,*b,c,d=1,2,3,4,5\n",
        "b"
      ],
      "execution_count": null,
      "outputs": [
        {
          "output_type": "execute_result",
          "data": {
            "text/plain": [
              "[2, 3]"
            ]
          },
          "metadata": {
            "tags": []
          },
          "execution_count": 55
        }
      ]
    },
    {
      "cell_type": "code",
      "metadata": {
        "id": "ShqbNdtsu2wJ",
        "outputId": "de02d915-af1a-436e-fac3-15d42b66bb64"
      },
      "source": [
        "*a=1,2,3,4 #1개의 식별자에서는 불가능"
      ],
      "execution_count": null,
      "outputs": [
        {
          "output_type": "error",
          "ename": "SyntaxError",
          "evalue": "starred assignment target must be in a list or tuple (<ipython-input-57-74cd7f0f11b8>, line 4)",
          "traceback": [
            "\u001b[1;36m  File \u001b[1;32m\"<ipython-input-57-74cd7f0f11b8>\"\u001b[1;36m, line \u001b[1;32m4\u001b[0m\n\u001b[1;31mSyntaxError\u001b[0m\u001b[1;31m:\u001b[0m starred assignment target must be in a list or tuple\n"
          ]
        }
      ]
    },
    {
      "cell_type": "markdown",
      "metadata": {
        "id": "S-cJaYSxu2wJ"
      },
      "source": [
        "5. 증감할당문\n",
        "    - 기존에 있는 식별자/이름 만 가능"
      ]
    },
    {
      "cell_type": "code",
      "metadata": {
        "id": "jnAA40xLu2wJ"
      },
      "source": [
        "a+=1 #증감 할당자"
      ],
      "execution_count": null,
      "outputs": []
    },
    {
      "cell_type": "code",
      "metadata": {
        "id": "zQjQRGxFu2wJ",
        "outputId": "41274131-ae98-49cc-a5a4-8b51a20141a7"
      },
      "source": [
        "a"
      ],
      "execution_count": null,
      "outputs": [
        {
          "output_type": "execute_result",
          "data": {
            "text/plain": [
              "2"
            ]
          },
          "metadata": {
            "tags": []
          },
          "execution_count": 59
        }
      ]
    },
    {
      "cell_type": "code",
      "metadata": {
        "id": "ErQzwG_Hu2wK"
      },
      "source": [
        "a-=1"
      ],
      "execution_count": null,
      "outputs": []
    },
    {
      "cell_type": "code",
      "metadata": {
        "id": "CctcGNY_u2wK",
        "outputId": "b56ea11e-0c2d-4b1a-8cca-8ea25ec8ab28"
      },
      "source": [
        "a"
      ],
      "execution_count": null,
      "outputs": [
        {
          "output_type": "execute_result",
          "data": {
            "text/plain": [
              "1"
            ]
          },
          "metadata": {
            "tags": []
          },
          "execution_count": 61
        }
      ]
    },
    {
      "cell_type": "code",
      "metadata": {
        "id": "ggXiAwcPu2wK",
        "outputId": "42cc426b-36ea-4078-92aa-800ddad24f4d"
      },
      "source": [
        "++a  #값 이 변하지 않음 +(+a)=+a =a"
      ],
      "execution_count": null,
      "outputs": [
        {
          "output_type": "execute_result",
          "data": {
            "text/plain": [
              "1"
            ]
          },
          "metadata": {
            "tags": []
          },
          "execution_count": 62
        }
      ]
    },
    {
      "cell_type": "code",
      "metadata": {
        "id": "ZAAtuxk-u2wK",
        "outputId": "8214fad8-2fb5-425d-bd5d-22d7a3159c52"
      },
      "source": [
        "a"
      ],
      "execution_count": null,
      "outputs": [
        {
          "output_type": "execute_result",
          "data": {
            "text/plain": [
              "1"
            ]
          },
          "metadata": {
            "tags": []
          },
          "execution_count": 65
        }
      ]
    },
    {
      "cell_type": "code",
      "metadata": {
        "id": "_UNIm9v1u2wK",
        "outputId": "c62347f6-6ed3-4d37-cc15-88558cebd033"
      },
      "source": [
        "--a #부호연산자로 생각함 예. (-(-a))= +a  "
      ],
      "execution_count": null,
      "outputs": [
        {
          "output_type": "execute_result",
          "data": {
            "text/plain": [
              "1"
            ]
          },
          "metadata": {
            "tags": []
          },
          "execution_count": 67
        }
      ]
    },
    {
      "cell_type": "code",
      "metadata": {
        "id": "S-7uosT1u2wL",
        "outputId": "8c4ac790-ca2f-47a6-a849-f36775fe9f0c"
      },
      "source": [
        "a++  #SyntaxError"
      ],
      "execution_count": null,
      "outputs": [
        {
          "output_type": "error",
          "ename": "SyntaxError",
          "evalue": "invalid syntax (<ipython-input-66-22e3d6dc1353>, line 1)",
          "traceback": [
            "\u001b[1;36m  File \u001b[1;32m\"<ipython-input-66-22e3d6dc1353>\"\u001b[1;36m, line \u001b[1;32m1\u001b[0m\n\u001b[1;33m    a++\u001b[0m\n\u001b[1;37m       ^\u001b[0m\n\u001b[1;31mSyntaxError\u001b[0m\u001b[1;31m:\u001b[0m invalid syntax\n"
          ]
        }
      ]
    },
    {
      "cell_type": "markdown",
      "metadata": {
        "id": "509gDPoru2wL"
      },
      "source": [
        "6. Global , Nonlocal\n",
        "    - name space의 scope 차이 : global, nonlocal( embedded영역)"
      ]
    },
    {
      "cell_type": "code",
      "metadata": {
        "id": "zp2dkAWnu2wL"
      },
      "source": [
        "global a#function 에서 중요한 keywords로 할당문 위에 써서 다른 기능으로 바꿔줌\n",
        "a=3"
      ],
      "execution_count": null,
      "outputs": []
    },
    {
      "cell_type": "code",
      "metadata": {
        "id": "jtD06pCLu2wL"
      },
      "source": [
        "nonlocal a\n",
        "a=3 "
      ],
      "execution_count": null,
      "outputs": []
    },
    {
      "cell_type": "markdown",
      "metadata": {
        "id": "FdGqoeTKu2wL"
      },
      "source": [
        "### 식\n",
        "- expression 표현식\n",
        "- 하나의 결과값으로 축약"
      ]
    },
    {
      "cell_type": "code",
      "metadata": {
        "id": "GzWtGItyu2wM",
        "outputId": "17d57788-cf79-4a67-baed-7108710b10fd"
      },
      "source": [
        "a = 1 + 3 # 할당자 오른쪽은 4로 축약\n",
        "조건식,반복, 함수식 삼항 연산자"
      ],
      "execution_count": null,
      "outputs": [
        {
          "output_type": "execute_result",
          "data": {
            "text/plain": [
              "4"
            ]
          },
          "metadata": {
            "tags": []
          },
          "execution_count": 70
        }
      ]
    },
    {
      "cell_type": "markdown",
      "metadata": {
        "id": "NkutruD5u2wM"
      },
      "source": [
        "### 문\n",
        "- statements 하나의 **실행 단위**\n",
        "- 선언문,정의문,대입문\n",
        "  - 13개의 단순문,복합문 \n",
        "\n",
        "## 값\n",
        "값 만드는 방법 2가지\n",
        "- 객체지향은 객체를 인스턴스화\n",
        "- literal 이용\n",
        "\n",
        "### 숫자형\n",
        "type 4가지\n",
        "- int(정수)\n",
        "- float(부동소수)\n",
        "- bool \n",
        "- complex \n",
        "\n",
        "> - literal:https://docs.python.org/ko/3/reference/lexical_analysis.html#literals\n",
        "    - 특수한 기호로 데이터 타입 결정"
      ]
    },
    {
      "cell_type": "markdown",
      "metadata": {
        "id": "O8ileOvju2wM"
      },
      "source": [
        "### 1. int\n",
        "- 정수\n",
        "- 정수 4가지 : 10진수, 2진수, 8진수, 16진수\n",
        "- 근대적 프로그래밍 언어는 동적으로 메모리를 확장시켜서 기본적으로 가장 큰 숫자를 다를수 있어 정수에 대해서 overflow 없음"
      ]
    },
    {
      "cell_type": "code",
      "metadata": {
        "id": "oNi6PQIMu2wM"
      },
      "source": [
        "a=1 #정수\n",
        "type(a )"
      ],
      "execution_count": null,
      "outputs": []
    },
    {
      "cell_type": "code",
      "metadata": {
        "id": "vuHTDvrvu2wM",
        "outputId": "efab8589-b716-4ce3-ad55-8d47ccd5c7cd"
      },
      "source": [
        "type(1)\n",
        "type(0b1) #2진수,\n",
        "type(0o1) #8진수\n",
        "type(0x4) #16진수"
      ],
      "execution_count": null,
      "outputs": [
        {
          "output_type": "execute_result",
          "data": {
            "text/plain": [
              "int"
            ]
          },
          "metadata": {
            "tags": []
          },
          "execution_count": 80
        }
      ]
    },
    {
      "cell_type": "code",
      "metadata": {
        "id": "PVMrlZ3Ru2wN"
      },
      "source": [
        "a=1_000_000  #숫자 중간에 underbar 사용하면 ,처럼 읽기 편함  (python 3.6부터 제공)"
      ],
      "execution_count": null,
      "outputs": []
    },
    {
      "cell_type": "code",
      "metadata": {
        "id": "A4iUp8t4u2wN",
        "outputId": "2a86f892-e9a1-4bfc-c81f-7a9bae827db5"
      },
      "source": [
        "a"
      ],
      "execution_count": null,
      "outputs": [
        {
          "output_type": "execute_result",
          "data": {
            "text/plain": [
              "100000"
            ]
          },
          "metadata": {
            "tags": []
          },
          "execution_count": 82
        }
      ]
    },
    {
      "cell_type": "code",
      "metadata": {
        "id": "Lh-Yxp9tu2wN",
        "outputId": "b86e33bc-70b7-47da-ce4e-c24b0d77f4f3"
      },
      "source": [
        "import sys\n",
        "sys.maxsize #가장 큰 숫자 범위"
      ],
      "execution_count": null,
      "outputs": [
        {
          "output_type": "execute_result",
          "data": {
            "text/plain": [
              "9223372036854775807"
            ]
          },
          "metadata": {
            "tags": []
          },
          "execution_count": 83
        }
      ]
    },
    {
      "cell_type": "code",
      "metadata": {
        "scrolled": true,
        "id": "tI3lNHoRu2wN",
        "outputId": "52b3f828-1340-4805-d037-9031c7d4ae30"
      },
      "source": [
        "9223372036854775807+1_000 # 가장 큰 숫자에 숫자를 더해도 overflow 안일어남"
      ],
      "execution_count": null,
      "outputs": [
        {
          "output_type": "execute_result",
          "data": {
            "text/plain": [
              "9223372036854776807"
            ]
          },
          "metadata": {
            "tags": []
          },
          "execution_count": 88
        }
      ]
    },
    {
      "cell_type": "markdown",
      "metadata": {
        "id": "T0X1LhiVu2wN"
      },
      "source": [
        "### 2. float\n",
        "- 근사값 사용\n",
        "    - e  \n",
        "    - Inf(Infinity)\n",
        "    - nan(Not a Number) \n",
        "- 속도가 느릴 수 밖에 없다."
      ]
    },
    {
      "cell_type": "code",
      "metadata": {
        "id": "zjmyPCNuu2wO",
        "outputId": "97c76f8b-a1da-4a79-dd3e-1c40f1ef3883"
      },
      "source": [
        "b=1.  #float\n",
        "type(b)"
      ],
      "execution_count": null,
      "outputs": [
        {
          "output_type": "execute_result",
          "data": {
            "text/plain": [
              "float"
            ]
          },
          "metadata": {
            "tags": []
          },
          "execution_count": 90
        }
      ]
    },
    {
      "cell_type": "code",
      "metadata": {
        "id": "GiqQwbZzu2wO",
        "outputId": "a57eac07-80ee-49dd-c685-3067f1539ae0"
      },
      "source": [
        "1. ==   1.0 #0 생략 가능"
      ],
      "execution_count": null,
      "outputs": [
        {
          "output_type": "execute_result",
          "data": {
            "text/plain": [
              "True"
            ]
          },
          "metadata": {
            "tags": []
          },
          "execution_count": 92
        }
      ]
    },
    {
      "cell_type": "code",
      "metadata": {
        "id": "z6KFN8xZu2wO",
        "outputId": "c9393e9e-c8a5-4a66-f7df-a46977352703"
      },
      "source": [
        ".1 == 0.1"
      ],
      "execution_count": null,
      "outputs": [
        {
          "output_type": "execute_result",
          "data": {
            "text/plain": [
              "True"
            ]
          },
          "metadata": {
            "tags": []
          },
          "execution_count": 93
        }
      ]
    },
    {
      "cell_type": "code",
      "metadata": {
        "id": "72p_gPgPu2wO",
        "outputId": "784a245f-24af-4891-c1f2-06158177a57b"
      },
      "source": [
        "0.1 + 0.1"
      ],
      "execution_count": null,
      "outputs": [
        {
          "output_type": "execute_result",
          "data": {
            "text/plain": [
              "0.2"
            ]
          },
          "metadata": {
            "tags": []
          },
          "execution_count": 96
        }
      ]
    },
    {
      "cell_type": "code",
      "metadata": {
        "id": "IAHJfWa7u2wO",
        "outputId": "b6fc0860-4b64-4afe-d035-8397dea490fe"
      },
      "source": [
        "0.1 + 0.1 + 0.1 #근사값이므로 0.3이 아님"
      ],
      "execution_count": null,
      "outputs": [
        {
          "output_type": "execute_result",
          "data": {
            "text/plain": [
              "0.30000000000000004"
            ]
          },
          "metadata": {
            "tags": []
          },
          "execution_count": 95
        }
      ]
    },
    {
      "cell_type": "code",
      "metadata": {
        "id": "n0-H8nknu2wP",
        "outputId": "6f468242-8a7c-4f57-977f-63fa64c4504e"
      },
      "source": [
        "1e4  #10의 4승"
      ],
      "execution_count": null,
      "outputs": [
        {
          "output_type": "execute_result",
          "data": {
            "text/plain": [
              "10000.0"
            ]
          },
          "metadata": {
            "tags": []
          },
          "execution_count": 97
        }
      ]
    },
    {
      "cell_type": "code",
      "metadata": {
        "id": "UGMDocv9u2wP",
        "outputId": "b15a3a6a-7d15-4a61-b50d-1fec8b2c30c3"
      },
      "source": [
        "1e-4 #"
      ],
      "execution_count": null,
      "outputs": [
        {
          "output_type": "execute_result",
          "data": {
            "text/plain": [
              "0.0001"
            ]
          },
          "metadata": {
            "tags": []
          },
          "execution_count": 98
        }
      ]
    },
    {
      "cell_type": "code",
      "metadata": {
        "id": "3Pe2if8Gu2wP",
        "outputId": "ec0834ba-8690-4764-965f-f976707e93f3"
      },
      "source": [
        "sys.float_info"
      ],
      "execution_count": null,
      "outputs": [
        {
          "output_type": "execute_result",
          "data": {
            "text/plain": [
              "sys.float_info(max=1.7976931348623157e+308, max_exp=1024, max_10_exp=308, min=2.2250738585072014e-308, min_exp=-1021, min_10_exp=-307, dig=15, mant_dig=53, epsilon=2.220446049250313e-16, radix=2, rounds=1)"
            ]
          },
          "metadata": {
            "tags": []
          },
          "execution_count": 103
        }
      ]
    },
    {
      "cell_type": "code",
      "metadata": {
        "id": "QoA46RdKu2wP"
      },
      "source": [
        "d=1.7976931348623157e+308 #최대값\n",
        "e=1.7976931348623157e+308"
      ],
      "execution_count": null,
      "outputs": []
    },
    {
      "cell_type": "code",
      "metadata": {
        "id": "UvnDSPU-u2wP",
        "outputId": "6ad13d4e-b98d-4fb2-b2f1-5ad2773b2c7c"
      },
      "source": [
        "d==e"
      ],
      "execution_count": null,
      "outputs": [
        {
          "output_type": "execute_result",
          "data": {
            "text/plain": [
              "True"
            ]
          },
          "metadata": {
            "tags": []
          },
          "execution_count": 107
        }
      ]
    },
    {
      "cell_type": "code",
      "metadata": {
        "id": "GMJyZMSNu2wQ",
        "outputId": "8a80c06f-8f70-4cef-9304-ce208e4b40d2"
      },
      "source": [
        "d==(e+100000)#근사값이므로 더하고 빼도 동일함.."
      ],
      "execution_count": null,
      "outputs": [
        {
          "output_type": "execute_result",
          "data": {
            "text/plain": [
              "True"
            ]
          },
          "metadata": {
            "tags": []
          },
          "execution_count": 110
        }
      ]
    },
    {
      "cell_type": "markdown",
      "metadata": {
        "id": "2K14XvAsu2wQ"
      },
      "source": [
        "#### infinity\n",
        "- 파이썬은 무한대의 개념이 존재\n",
        "- 정수는 무한히 확장하지만 무한대는 float 형태"
      ]
    },
    {
      "cell_type": "code",
      "metadata": {
        "id": "e-Imga-Xu2wQ",
        "outputId": "6820d0eb-6ea0-4df6-b791-99e6e72ec6d9"
      },
      "source": [
        "1.7976931348623157e+310 #infinity"
      ],
      "execution_count": null,
      "outputs": [
        {
          "output_type": "execute_result",
          "data": {
            "text/plain": [
              "inf"
            ]
          },
          "metadata": {
            "tags": []
          },
          "execution_count": 111
        }
      ]
    },
    {
      "cell_type": "code",
      "metadata": {
        "id": "BevwkdJOu2wQ",
        "outputId": "b2c5c6cb-92ad-4569-a363-b9aa454aa442"
      },
      "source": [
        "float('inf')"
      ],
      "execution_count": null,
      "outputs": [
        {
          "output_type": "execute_result",
          "data": {
            "text/plain": [
              "inf"
            ]
          },
          "metadata": {
            "tags": []
          },
          "execution_count": 113
        }
      ]
    },
    {
      "cell_type": "code",
      "metadata": {
        "id": "-PphkAJlu2wQ",
        "outputId": "5426102f-2382-4792-e225-8f3e0d9dec52"
      },
      "source": [
        "float('infinity')"
      ],
      "execution_count": null,
      "outputs": [
        {
          "output_type": "execute_result",
          "data": {
            "text/plain": [
              "inf"
            ]
          },
          "metadata": {
            "tags": []
          },
          "execution_count": 114
        }
      ]
    },
    {
      "cell_type": "markdown",
      "metadata": {
        "id": "iIRJjL90u2wR"
      },
      "source": [
        "#### nan\n",
        "- Not a Number 숫자가 아닌 값도 float"
      ]
    },
    {
      "cell_type": "code",
      "metadata": {
        "id": "XsJDLp4fu2wR",
        "outputId": "e0cfa675-f069-4e0e-be8a-849ded2d20d6"
      },
      "source": [
        "float('nan') "
      ],
      "execution_count": null,
      "outputs": [
        {
          "output_type": "execute_result",
          "data": {
            "text/plain": [
              "nan"
            ]
          },
          "metadata": {
            "tags": []
          },
          "execution_count": 116
        }
      ]
    },
    {
      "cell_type": "markdown",
      "metadata": {
        "id": "KCCTDongu2wR"
      },
      "source": [
        " - python : 명세임과 동시에 프로그래밍 언어\n",
        "    > - CPython, Jython ,PyPy\n",
        "    - 파이썬 재단에서는 C로 작석된 파이썬 구현 관리하고 de facto"
      ]
    },
    {
      "cell_type": "code",
      "metadata": {
        "id": "MZKHasClu2wR"
      },
      "source": [
        "import platform #구현체"
      ],
      "execution_count": null,
      "outputs": []
    },
    {
      "cell_type": "code",
      "metadata": {
        "id": "iGIeXoJIu2wR",
        "outputId": "22d81d52-e410-4feb-ac33-ec4a6153c274"
      },
      "source": [
        "platform.architecture "
      ],
      "execution_count": null,
      "outputs": [
        {
          "output_type": "execute_result",
          "data": {
            "text/plain": [
              "<function platform.architecture(executable='C:\\\\Users\\\\AI07\\\\anaconda3\\\\python.exe', bits='', linkage='')>"
            ]
          },
          "metadata": {
            "tags": []
          },
          "execution_count": 122
        }
      ]
    },
    {
      "cell_type": "markdown",
      "metadata": {
        "id": "nGBPIDvQu2wR"
      },
      "source": [
        "### 3. complex\n",
        "- 복소수도 지원하지만 우리 과정에서는 많이 안 씀"
      ]
    },
    {
      "cell_type": "code",
      "metadata": {
        "scrolled": true,
        "id": "Adi5MysWu2wS",
        "outputId": "aff1c4c6-f54e-49c4-9e46-c01c46721037"
      },
      "source": [
        "type(1+3j)  "
      ],
      "execution_count": null,
      "outputs": [
        {
          "output_type": "execute_result",
          "data": {
            "text/plain": [
              "complex"
            ]
          },
          "metadata": {
            "tags": []
          },
          "execution_count": 126
        }
      ]
    },
    {
      "cell_type": "markdown",
      "metadata": {
        "id": "76D6oUkou2wS"
      },
      "source": [
        "### 4. boolean\n",
        "- int 상속 받음\n",
        "    - `True`=1\n",
        "    - `False`=0 "
      ]
    },
    {
      "cell_type": "code",
      "metadata": {
        "id": "QRhX0XAiu2wS",
        "outputId": "05d37e2f-cf79-4943-cc31-10eb25698e8a"
      },
      "source": [
        "issubclass(bool,int) #bool 타입은 int를 상속받음"
      ],
      "execution_count": null,
      "outputs": [
        {
          "output_type": "execute_result",
          "data": {
            "text/plain": [
              "True"
            ]
          },
          "metadata": {
            "tags": []
          },
          "execution_count": 6
        }
      ]
    },
    {
      "cell_type": "code",
      "metadata": {
        "id": "hFgGjxsUu2wS",
        "outputId": "1ea2bee0-5543-4142-e8cb-a64a79292535"
      },
      "source": [
        "type(True)  "
      ],
      "execution_count": null,
      "outputs": [
        {
          "output_type": "execute_result",
          "data": {
            "text/plain": [
              "bool"
            ]
          },
          "metadata": {
            "tags": []
          },
          "execution_count": 127
        }
      ]
    },
    {
      "cell_type": "code",
      "metadata": {
        "id": "-IKR4Riku2wT",
        "outputId": "12e89ced-a530-4ff2-df6f-48fec86ef073"
      },
      "source": [
        "True + True + True #1+1+1"
      ],
      "execution_count": null,
      "outputs": [
        {
          "output_type": "execute_result",
          "data": {
            "text/plain": [
              "3"
            ]
          },
          "metadata": {
            "tags": []
          },
          "execution_count": 128
        }
      ]
    },
    {
      "cell_type": "code",
      "metadata": {
        "scrolled": true,
        "id": "QLi1-YKZu2wT",
        "outputId": "12943628-c298-42b8-ebea-0c9066ca51a2"
      },
      "source": [
        "False + False      #0+0"
      ],
      "execution_count": null,
      "outputs": [
        {
          "output_type": "execute_result",
          "data": {
            "text/plain": [
              "0"
            ]
          },
          "metadata": {
            "tags": []
          },
          "execution_count": 130
        }
      ]
    },
    {
      "cell_type": "code",
      "metadata": {
        "id": "oAOshopBu2wT",
        "outputId": "d133199a-6092-49bb-df00-f903b06ebf2c"
      },
      "source": [
        "0== False #숫자"
      ],
      "execution_count": null,
      "outputs": [
        {
          "output_type": "execute_result",
          "data": {
            "text/plain": [
              "True"
            ]
          },
          "metadata": {
            "tags": []
          },
          "execution_count": 131
        }
      ]
    },
    {
      "cell_type": "markdown",
      "metadata": {
        "id": "a53v2Vtwu2wT"
      },
      "source": [
        "- python은 interprter 언어로 연산 속도가 느림\n",
        "- compile 언어는 아니지만 interpreter 언어이기 때문에 연산이 느려 속도를 높이기 위해 JIT(just in time)쓰지만 python에서는 안 씀\n",
        "- c보다 5~100배 느림"
      ]
    },
    {
      "cell_type": "markdown",
      "metadata": {
        "id": "pO9F2vPHu2wT"
      },
      "source": [
        "### 문자형\n",
        "- 문자형 형태가 상이\n",
        "- 언어마다 문자 처리가 다름\n",
        "    - 문자열 처리 C 에서는 힘듦\n",
        "> - 인공지능 핵심은 숫자형- 문자도 encoding으로 숫자로 바꾸기 때문에 python 문자형에대해서 깊게 들어가지 않음\n",
        "\n",
        "- 문자형 3가지"
      ]
    },
    {
      "cell_type": "markdown",
      "metadata": {
        "id": "mjbGUz4Gu2wU"
      },
      "source": [
        "1. str( unicode)\n",
        " - `u`"
      ]
    },
    {
      "cell_type": "code",
      "metadata": {
        "id": "68Ha9PG8u2wU",
        "outputId": "b087a7df-842a-4e6d-82ba-1b87e37c8925"
      },
      "source": [
        "a='ICT' \n",
        "a"
      ],
      "execution_count": null,
      "outputs": [
        {
          "output_type": "execute_result",
          "data": {
            "text/plain": [
              "'ICT'"
            ]
          },
          "metadata": {
            "tags": []
          },
          "execution_count": 137
        }
      ]
    },
    {
      "cell_type": "code",
      "metadata": {
        "id": "iiCToS29u2wU",
        "outputId": "8f8219d8-cff7-45d8-f684-e2734c55274a"
      },
      "source": [
        "a=\"ICT\"  #쌍따옴표는 홑따옴표와 동일함\n",
        "a"
      ],
      "execution_count": null,
      "outputs": [
        {
          "output_type": "execute_result",
          "data": {
            "text/plain": [
              "'ICT'"
            ]
          },
          "metadata": {
            "tags": []
          },
          "execution_count": 138
        }
      ]
    },
    {
      "cell_type": "code",
      "metadata": {
        "id": "uv_ufznRu2wU",
        "outputId": "134b3c2e-6dd7-4677-fa94-34dc7999848a"
      },
      "source": [
        "type(a)"
      ],
      "execution_count": null,
      "outputs": [
        {
          "output_type": "execute_result",
          "data": {
            "text/plain": [
              "str"
            ]
          },
          "metadata": {
            "tags": []
          },
          "execution_count": 139
        }
      ]
    },
    {
      "cell_type": "code",
      "metadata": {
        "id": "dMeQ2OLKu2wV",
        "outputId": "fd665683-6d33-42d0-fd6a-41a7c7c43ea3"
      },
      "source": [
        "u'Ict' #unicode - 해석 :)"
      ],
      "execution_count": null,
      "outputs": [
        {
          "output_type": "execute_result",
          "data": {
            "text/plain": [
              "'Ict'"
            ]
          },
          "metadata": {
            "tags": []
          },
          "execution_count": 140
        }
      ]
    },
    {
      "cell_type": "code",
      "metadata": {
        "id": "XShIUZJZu2wV",
        "outputId": "b20de15e-6968-4b88-96ce-351f6ecb0ee7"
      },
      "source": [
        "type(u'ict')"
      ],
      "execution_count": null,
      "outputs": [
        {
          "output_type": "execute_result",
          "data": {
            "text/plain": [
              "str"
            ]
          },
          "metadata": {
            "tags": []
          },
          "execution_count": 143
        }
      ]
    },
    {
      "cell_type": "markdown",
      "metadata": {
        "id": "6qG5zRmFu2wV"
      },
      "source": [
        "2. bytes (ascii)\n",
        " - `b`"
      ]
    },
    {
      "cell_type": "code",
      "metadata": {
        "id": "7u7ywnpiu2wV",
        "outputId": "85d1d19e-9b0f-4c59-f793-4cffa73381a6"
      },
      "source": [
        "b'ict'  #byte  ascii 코드 - 파일저장,통신"
      ],
      "execution_count": null,
      "outputs": [
        {
          "output_type": "execute_result",
          "data": {
            "text/plain": [
              "b'ict'"
            ]
          },
          "metadata": {
            "tags": []
          },
          "execution_count": 141
        }
      ]
    },
    {
      "cell_type": "code",
      "metadata": {
        "id": "Q913IxG_u2wV",
        "outputId": "3fce2801-8af5-4697-e620-a79468f53714"
      },
      "source": [
        "type(b'ict')"
      ],
      "execution_count": null,
      "outputs": [
        {
          "output_type": "execute_result",
          "data": {
            "text/plain": [
              "bytes"
            ]
          },
          "metadata": {
            "tags": []
          },
          "execution_count": 142
        }
      ]
    },
    {
      "cell_type": "markdown",
      "metadata": {
        "id": "HvuVYUwPu2wW"
      },
      "source": [
        "3. bytearray (ascii) \n",
        " - `bytearray()`"
      ]
    },
    {
      "cell_type": "code",
      "metadata": {
        "id": "RO5NmSUMu2wW",
        "outputId": "015f6676-022f-49a7-bc5b-c44454993e31"
      },
      "source": [
        "bytearray(b'abc')"
      ],
      "execution_count": null,
      "outputs": [
        {
          "output_type": "execute_result",
          "data": {
            "text/plain": [
              "bytearray(b'abc')"
            ]
          },
          "metadata": {
            "tags": []
          },
          "execution_count": 145
        }
      ]
    },
    {
      "cell_type": "markdown",
      "metadata": {
        "id": "zdBEHyKfu2wW"
      },
      "source": [
        "python2 공식지원 중단\n",
        "str: unicode 문자열을 다룰수 있음\n",
        "\n",
        "escape \\ 문자"
      ]
    },
    {
      "cell_type": "code",
      "metadata": {
        "id": "EVjQqHjKu2wW",
        "outputId": "c5e522db-dd72-41b1-a140-d00e83ce90ec"
      },
      "source": [
        "a='A\\nC'\n",
        "a"
      ],
      "execution_count": null,
      "outputs": [
        {
          "output_type": "execute_result",
          "data": {
            "text/plain": [
              "'A\\nC'"
            ]
          },
          "metadata": {
            "tags": []
          },
          "execution_count": 150
        }
      ]
    },
    {
      "cell_type": "code",
      "metadata": {
        "id": "GfQ314szu2wW",
        "outputId": "9993abf2-e61f-42d8-c6f3-ba71e95a8c2b"
      },
      "source": [
        "print('A\\nC')"
      ],
      "execution_count": null,
      "outputs": [
        {
          "output_type": "stream",
          "text": [
            "A\n",
            "C\n"
          ],
          "name": "stdout"
        }
      ]
    },
    {
      "cell_type": "code",
      "metadata": {
        "id": "0PuL7gy3u2wX",
        "outputId": "4912b46d-9b26-4ee5-dbba-0fd41c1c1abd"
      },
      "source": [
        "print(r'A\\nC' )#rawforamt "
      ],
      "execution_count": null,
      "outputs": [
        {
          "output_type": "stream",
          "text": [
            "A\\nC\n"
          ],
          "name": "stdout"
        }
      ]
    },
    {
      "cell_type": "markdown",
      "metadata": {
        "id": "r_jZyQaSu2wX"
      },
      "source": [
        "### 공식 문서 설명\n",
        "- help\n",
        "- ?\n",
        "- shift + tab\n",
        "Python 용어집: https://docs.python.org/ko/3/glossary.html"
      ]
    },
    {
      "cell_type": "code",
      "metadata": {
        "id": "_jW-6jLmu2wX",
        "outputId": "1720027f-65ae-4449-9273-f19665acfed4"
      },
      "source": [
        "help(len)  #  .... 'container' "
      ],
      "execution_count": null,
      "outputs": [
        {
          "output_type": "stream",
          "text": [
            "Help on built-in function len in module builtins:\n",
            "\n",
            "len(obj, /)\n",
            "    Return the number of items in a container.\n",
            "\n"
          ],
          "name": "stdout"
        }
      ]
    },
    {
      "cell_type": "code",
      "metadata": {
        "id": "_Pvndpcau2wX"
      },
      "source": [
        "?len #jupyter notebook, colab"
      ],
      "execution_count": null,
      "outputs": []
    },
    {
      "cell_type": "code",
      "metadata": {
        "id": "N1nm_igbu2wX"
      },
      "source": [
        "??len"
      ],
      "execution_count": null,
      "outputs": []
    },
    {
      "cell_type": "code",
      "metadata": {
        "id": "J0H5y-SDu2wY"
      },
      "source": [
        "len  #shift + tab"
      ],
      "execution_count": null,
      "outputs": []
    },
    {
      "cell_type": "markdown",
      "metadata": {
        "id": "1OtSTxbXu2wY"
      },
      "source": [
        "---\n",
        "\n",
        "## container, collection\n",
        "- 혼용하지말것\n",
        "#### Container \n",
        "- 여러개의 elements 로 구성되어있는데 **쪼개질수 있음**\n",
        " - > DB: ACID(**atomicity**, consistency, isolation, durability) \n",
        " - 문자열, list, tuple, set \n",
        "     - 예. 숫자 1000 -> 1, 0, 0, 0 으로 쪼개면 의미 없음\n",
        "     - 예. 문자열은 원소로 쪼개도 의미 있음\n",
        "         - ABC -> A,B,C\n",
        "     \n",
        "\n",
        "##### homogeneous container\n",
        "- 문자열\n",
        "\n",
        "##### heterogeneous container\n",
        "- list"
      ]
    },
    {
      "cell_type": "code",
      "metadata": {
        "id": "92WiQtEMu2wY",
        "outputId": "61b4bd44-9d63-4674-ed4c-3d1dfe000473"
      },
      "source": [
        "len(a) #container 타입은 len 사용가능  "
      ],
      "execution_count": null,
      "outputs": [
        {
          "output_type": "execute_result",
          "data": {
            "text/plain": [
              "2"
            ]
          },
          "metadata": {
            "tags": []
          },
          "execution_count": 162
        }
      ]
    },
    {
      "cell_type": "code",
      "metadata": {
        "id": "0tgqHWpFu2wY",
        "outputId": "97bde258-6457-4f21-aacc-deff73d1ecc5"
      },
      "source": [
        "'2020년 11월 9일'"
      ],
      "execution_count": null,
      "outputs": [
        {
          "output_type": "execute_result",
          "data": {
            "text/plain": [
              "'2020년 11월 9일'"
            ]
          },
          "metadata": {
            "tags": []
          },
          "execution_count": 160
        }
      ]
    },
    {
      "cell_type": "code",
      "metadata": {
        "id": "4iUpafamu2wY",
        "outputId": "ea29cf28-f5fc-4218-f86a-dc6344670395"
      },
      "source": [
        "a=[1,'1']\n",
        "a "
      ],
      "execution_count": null,
      "outputs": [
        {
          "output_type": "execute_result",
          "data": {
            "text/plain": [
              "[1, '1']"
            ]
          },
          "metadata": {
            "tags": []
          },
          "execution_count": 1
        }
      ]
    },
    {
      "cell_type": "markdown",
      "metadata": {
        "id": "PY3DMW-Fu2wZ"
      },
      "source": [
        "##### sequence container\n",
        "- 순서가 중요함\n",
        "- 문자열\n",
        "- **Indexing, Slicing 지원**\n",
        "\n",
        "##### non- sequence container\n",
        "- 순서가 중요하지 않음\n",
        "- set: 순서없고 중복없음"
      ]
    },
    {
      "cell_type": "code",
      "metadata": {
        "scrolled": true,
        "id": "G6q8_EBiu2wZ",
        "outputId": "90911430-348d-43cd-dbda-d1c0e91dcf52"
      },
      "source": [
        "'ICT' != 'TCI' #순서 바뀌면 다름"
      ],
      "execution_count": null,
      "outputs": [
        {
          "output_type": "execute_result",
          "data": {
            "text/plain": [
              "True"
            ]
          },
          "metadata": {
            "tags": []
          },
          "execution_count": 161
        }
      ]
    },
    {
      "cell_type": "code",
      "metadata": {
        "id": "Aka0g1RSu2wZ",
        "outputId": "70d27f72-a6bd-43f1-a379-b41e0a6b155e"
      },
      "source": [
        "a[0] #indexing"
      ],
      "execution_count": null,
      "outputs": [
        {
          "output_type": "execute_result",
          "data": {
            "text/plain": [
              "1"
            ]
          },
          "metadata": {
            "tags": []
          },
          "execution_count": 165
        }
      ]
    },
    {
      "cell_type": "code",
      "metadata": {
        "id": "NcbN0oWeu2wZ",
        "outputId": "4709b106-2468-495a-9dc4-f159c2d8af93"
      },
      "source": [
        "a[0:] #Slicing "
      ],
      "execution_count": null,
      "outputs": [
        {
          "output_type": "execute_result",
          "data": {
            "text/plain": [
              "[1, '1']"
            ]
          },
          "metadata": {
            "tags": []
          },
          "execution_count": 168
        }
      ]
    },
    {
      "cell_type": "code",
      "metadata": {
        "id": "wnMH3wc-u2wa",
        "outputId": "3255d2f7-9042-4600-c06d-6327d4e54ada"
      },
      "source": [
        "c={1,2,3} #set\n",
        "type(c)"
      ],
      "execution_count": null,
      "outputs": [
        {
          "output_type": "execute_result",
          "data": {
            "text/plain": [
              "set"
            ]
          },
          "metadata": {
            "tags": []
          },
          "execution_count": 170
        }
      ]
    },
    {
      "cell_type": "code",
      "metadata": {
        "id": "2U0MGixiu2wa",
        "outputId": "edfd73b4-864c-47f9-8b37-cf2ac5a3cff1"
      },
      "source": [
        "c[0] #set 에서는 기능을 지원하지 않으므로 TypeError"
      ],
      "execution_count": null,
      "outputs": [
        {
          "output_type": "error",
          "ename": "TypeError",
          "evalue": "'set' object is not subscriptable",
          "traceback": [
            "\u001b[1;31m---------------------------------------------------------------------------\u001b[0m",
            "\u001b[1;31mTypeError\u001b[0m                                 Traceback (most recent call last)",
            "\u001b[1;32m<ipython-input-171-71463270cd6c>\u001b[0m in \u001b[0;36m<module>\u001b[1;34m\u001b[0m\n\u001b[1;32m----> 1\u001b[1;33m \u001b[0mc\u001b[0m\u001b[1;33m[\u001b[0m\u001b[1;36m0\u001b[0m\u001b[1;33m]\u001b[0m\u001b[1;33m\u001b[0m\u001b[1;33m\u001b[0m\u001b[0m\n\u001b[0m",
            "\u001b[1;31mTypeError\u001b[0m: 'set' object is not subscriptable"
          ]
        }
      ]
    },
    {
      "cell_type": "markdown",
      "metadata": {
        "id": "ghds1hlxu2wa"
      },
      "source": [
        "##### indexing\n",
        "- 0 부터 시작\n",
        "- -n 사용 가능"
      ]
    },
    {
      "cell_type": "code",
      "metadata": {
        "id": "nhLj6oKGu2wa"
      },
      "source": [
        "a='python을 공부합니다.' #문자열은 homogeneous, Sequential"
      ],
      "execution_count": null,
      "outputs": []
    },
    {
      "cell_type": "code",
      "metadata": {
        "id": "3CucTTG1u2wa",
        "outputId": "44b0a540-5c1a-457c-e91a-266dc88a0090"
      },
      "source": [
        "a[0]"
      ],
      "execution_count": null,
      "outputs": [
        {
          "output_type": "execute_result",
          "data": {
            "text/plain": [
              "'p'"
            ]
          },
          "metadata": {
            "tags": []
          },
          "execution_count": 173
        }
      ]
    },
    {
      "cell_type": "code",
      "metadata": {
        "id": "d5NgHP_xu2wb",
        "outputId": "632165f2-06d4-42d4-cacc-ff606bd53f9b"
      },
      "source": [
        "a[-2]"
      ],
      "execution_count": null,
      "outputs": [
        {
          "output_type": "execute_result",
          "data": {
            "text/plain": [
              "'다'"
            ]
          },
          "metadata": {
            "tags": []
          },
          "execution_count": 175
        }
      ]
    },
    {
      "cell_type": "code",
      "metadata": {
        "id": "m-IdGPmcu2wb",
        "outputId": "d20c2209-03bf-4ef2-f1b0-d91ad3ae43cb"
      },
      "source": [
        "a[20] #IndexError 범위내에서만 가능"
      ],
      "execution_count": null,
      "outputs": [
        {
          "output_type": "error",
          "ename": "IndexError",
          "evalue": "string index out of range",
          "traceback": [
            "\u001b[1;31m---------------------------------------------------------------------------\u001b[0m",
            "\u001b[1;31mIndexError\u001b[0m                                Traceback (most recent call last)",
            "\u001b[1;32m<ipython-input-177-2ba6acdce15e>\u001b[0m in \u001b[0;36m<module>\u001b[1;34m\u001b[0m\n\u001b[1;32m----> 1\u001b[1;33m \u001b[0ma\u001b[0m\u001b[1;33m[\u001b[0m\u001b[1;36m20\u001b[0m\u001b[1;33m]\u001b[0m\u001b[1;33m\u001b[0m\u001b[1;33m\u001b[0m\u001b[0m\n\u001b[0m",
            "\u001b[1;31mIndexError\u001b[0m: string index out of range"
          ]
        }
      ]
    },
    {
      "cell_type": "markdown",
      "metadata": {
        "id": "2gxak8A0u2wb"
      },
      "source": [
        "##### slicing\n"
      ]
    },
    {
      "cell_type": "code",
      "metadata": {
        "id": "8-QU9hNNu2wb",
        "outputId": "b62a871e-5d2d-46f7-8094-c60a64563348"
      },
      "source": [
        "a[2:6]"
      ],
      "execution_count": null,
      "outputs": [
        {
          "output_type": "execute_result",
          "data": {
            "text/plain": [
              "'thon'"
            ]
          },
          "metadata": {
            "tags": []
          },
          "execution_count": 183
        }
      ]
    },
    {
      "cell_type": "code",
      "metadata": {
        "id": "Ek5EghOJu2wb",
        "outputId": "4ed5a532-183a-4a98-e32a-e91a25e36b31"
      },
      "source": [
        "a[:6] #앞에 생략하면 처음부터"
      ],
      "execution_count": null,
      "outputs": [
        {
          "output_type": "execute_result",
          "data": {
            "text/plain": [
              "'python'"
            ]
          },
          "metadata": {
            "tags": []
          },
          "execution_count": 182
        }
      ]
    },
    {
      "cell_type": "code",
      "metadata": {
        "id": "dImQR9jvu2wc",
        "outputId": "985a8021-751a-4e1c-e825-feec1583220a"
      },
      "source": [
        "a[:]#전체"
      ],
      "execution_count": null,
      "outputs": [
        {
          "output_type": "execute_result",
          "data": {
            "text/plain": [
              "'python을 공부합니다.'"
            ]
          },
          "metadata": {
            "tags": []
          },
          "execution_count": 181
        }
      ]
    },
    {
      "cell_type": "markdown",
      "metadata": {
        "id": "vXuE9E9iu2wc"
      },
      "source": [
        " ### The Zen of Python\n",
        "- python 의 경지\n",
        "> Although that way may not be obvious at first unless you're Dutch.\n",
        "    - 네덜란드사람이 아니라면 처음에는 명백하지 않을것!\n",
        "    - 귀도 반 로섬은 네덜란드인\n",
        " - indexing은 정확해야하나 slicing은  영역은 대충 잡아도 되서 에러 안나게 만들어둠"
      ]
    },
    {
      "cell_type": "code",
      "metadata": {
        "scrolled": true,
        "id": "aPPWdrJpu2wc",
        "outputId": "8c94cdb5-8e24-46df-8c51-ab28ec9d372d"
      },
      "source": [
        "import this"
      ],
      "execution_count": null,
      "outputs": [
        {
          "output_type": "stream",
          "text": [
            "The Zen of Python, by Tim Peters\n",
            "\n",
            "Beautiful is better than ugly.\n",
            "Explicit is better than implicit.\n",
            "Simple is better than complex.\n",
            "Complex is better than complicated.\n",
            "Flat is better than nested.\n",
            "Sparse is better than dense.\n",
            "Readability counts.\n",
            "Special cases aren't special enough to break the rules.\n",
            "Although practicality beats purity.\n",
            "Errors should never pass silently.\n",
            "Unless explicitly silenced.\n",
            "In the face of ambiguity, refuse the temptation to guess.\n",
            "There should be one-- and preferably only one --obvious way to do it.\n",
            "Although that way may not be obvious at first unless you're Dutch.\n",
            "Now is better than never.\n",
            "Although never is often better than *right* now.\n",
            "If the implementation is hard to explain, it's a bad idea.\n",
            "If the implementation is easy to explain, it may be a good idea.\n",
            "Namespaces are one honking great idea -- let's do more of those!\n"
          ],
          "name": "stdout"
        }
      ]
    },
    {
      "cell_type": "code",
      "metadata": {
        "scrolled": true,
        "id": "R6iRZciqu2wc",
        "outputId": "d5aec555-9080-4cc3-ce12-01c2f77a5fb7"
      },
      "source": [
        "a[:100] #범위를 벗어났지만 에러 없음"
      ],
      "execution_count": null,
      "outputs": [
        {
          "output_type": "execute_result",
          "data": {
            "text/plain": [
              "'python을 공부합니다.'"
            ]
          },
          "metadata": {
            "tags": []
          },
          "execution_count": 184
        }
      ]
    },
    {
      "cell_type": "code",
      "metadata": {
        "id": "FdfW9x46u2wd",
        "outputId": "68a5ac4a-8b15-42c3-ad57-52f4d9a3a23b"
      },
      "source": [
        "a[slice(0,3)]  "
      ],
      "execution_count": null,
      "outputs": [
        {
          "output_type": "execute_result",
          "data": {
            "text/plain": [
              "'pyt'"
            ]
          },
          "metadata": {
            "tags": []
          },
          "execution_count": 187
        }
      ]
    },
    {
      "cell_type": "code",
      "metadata": {
        "id": "on5nzBP9u2wd",
        "outputId": "882bf937-aabf-4b51-c26e-89464217398b"
      },
      "source": [
        "a[:] #전체 "
      ],
      "execution_count": null,
      "outputs": [
        {
          "output_type": "execute_result",
          "data": {
            "text/plain": [
              "'python을 공부합니다.'"
            ]
          },
          "metadata": {
            "tags": []
          },
          "execution_count": 188
        }
      ]
    },
    {
      "cell_type": "markdown",
      "metadata": {
        "id": "qszQLc_uu2wd"
      },
      "source": [
        "##### mutable container\n",
        "- 주소값 유지하면서 재할당 없이 변경 가능\n",
        "- 편리하나 바뀐지 모르기 때문에 실수를 유발함\n",
        "    - list, bytearray\n",
        " \n",
        "##### immutable container\n",
        "- program 오류 줄여주기 떄문에 함수형 패러다임에서는 immutable 이 많음\n",
        "    - tuple, bytes"
      ]
    },
    {
      "cell_type": "code",
      "metadata": {
        "id": "mlfe6trMu2wd"
      },
      "source": [
        "a=[1,2,3,'5'] # list :Sequence,heterogenous container"
      ],
      "execution_count": null,
      "outputs": []
    },
    {
      "cell_type": "code",
      "metadata": {
        "id": "4OBkfG6ju2wd",
        "outputId": "b8f81b31-0d9f-41cc-eb12-9ceb474b9bb6"
      },
      "source": [
        "a[-1]"
      ],
      "execution_count": null,
      "outputs": [
        {
          "output_type": "execute_result",
          "data": {
            "text/plain": [
              "'5'"
            ]
          },
          "metadata": {
            "tags": []
          },
          "execution_count": 197
        }
      ]
    },
    {
      "cell_type": "code",
      "metadata": {
        "id": "YL8hgjy8u2we"
      },
      "source": [
        "b=(1,2,'3',)# tuple :Sequence,heterogenous container"
      ],
      "execution_count": null,
      "outputs": []
    },
    {
      "cell_type": "code",
      "metadata": {
        "id": "dcJ_g9gqu2we",
        "outputId": "4e64750b-b60c-4514-b8b1-3a19e5607a7b"
      },
      "source": [
        "b[-1]"
      ],
      "execution_count": null,
      "outputs": [
        {
          "output_type": "execute_result",
          "data": {
            "text/plain": [
              "'3'"
            ]
          },
          "metadata": {
            "tags": []
          },
          "execution_count": 199
        }
      ]
    },
    {
      "cell_type": "code",
      "metadata": {
        "id": "ez3XAFtIu2we",
        "outputId": "c9d64260-45e4-4b60-eee6-e178c5153914"
      },
      "source": [
        "set(dir(a)) ^ set(dir(b)) # append, clear,copy, insert, pop, remove... mutable 자기 자신을 바꾸는 기능들"
      ],
      "execution_count": null,
      "outputs": [
        {
          "output_type": "execute_result",
          "data": {
            "text/plain": [
              "{'__delitem__',\n",
              " '__getnewargs__',\n",
              " '__iadd__',\n",
              " '__imul__',\n",
              " '__reversed__',\n",
              " '__setitem__',\n",
              " 'append',\n",
              " 'clear',\n",
              " 'copy',\n",
              " 'extend',\n",
              " 'insert',\n",
              " 'pop',\n",
              " 'remove',\n",
              " 'reverse',\n",
              " 'sort'}"
            ]
          },
          "metadata": {
            "tags": []
          },
          "execution_count": 201
        }
      ]
    },
    {
      "cell_type": "code",
      "metadata": {
        "id": "eVuHFsMhu2we"
      },
      "source": [
        "a.append(4) #맨끝에 데이터 추가함 "
      ],
      "execution_count": null,
      "outputs": []
    },
    {
      "cell_type": "code",
      "metadata": {
        "id": "Z_5Y4M7ku2we",
        "outputId": "790d3eda-3b75-4b87-cb97-cf8702e764fb"
      },
      "source": [
        "a"
      ],
      "execution_count": null,
      "outputs": [
        {
          "output_type": "execute_result",
          "data": {
            "text/plain": [
              "[1, 2, 3, '5', 4]"
            ]
          },
          "metadata": {
            "tags": []
          },
          "execution_count": 206
        }
      ]
    },
    {
      "cell_type": "markdown",
      "metadata": {
        "id": "vc4BXDmfu2wf"
      },
      "source": [
        "`type`, `dir`, `id` 중요함"
      ]
    },
    {
      "cell_type": "code",
      "metadata": {
        "id": "yH5BwyLSu2wf",
        "outputId": "b901f5a7-2a11-481c-a81b-2bdbebf8ef72"
      },
      "source": [
        "id(a)#주소값"
      ],
      "execution_count": null,
      "outputs": [
        {
          "output_type": "execute_result",
          "data": {
            "text/plain": [
              "2262915919624"
            ]
          },
          "metadata": {
            "tags": []
          },
          "execution_count": 207
        }
      ]
    },
    {
      "cell_type": "code",
      "metadata": {
        "id": "0Hz6nrSMu2wf",
        "outputId": "abc51461-7807-4432-8bce-62acaa33d148"
      },
      "source": [
        "hex(id(a)) "
      ],
      "execution_count": null,
      "outputs": [
        {
          "output_type": "execute_result",
          "data": {
            "text/plain": [
              "'0x20ee04caf08'"
            ]
          },
          "metadata": {
            "tags": []
          },
          "execution_count": 208
        }
      ]
    },
    {
      "cell_type": "code",
      "metadata": {
        "id": "NgxMh_YQu2wg",
        "outputId": "b170617b-12b7-451d-e53d-2daf367aaa61"
      },
      "source": [
        "b=[1,2,3]\n",
        "id(b)"
      ],
      "execution_count": null,
      "outputs": [
        {
          "output_type": "execute_result",
          "data": {
            "text/plain": [
              "2262915866696"
            ]
          },
          "metadata": {
            "tags": []
          },
          "execution_count": 209
        }
      ]
    },
    {
      "cell_type": "code",
      "metadata": {
        "id": "IC_MME_uu2wg",
        "outputId": "01fcf1e3-4c17-4e18-b1fc-05eb3ea02470"
      },
      "source": [
        "b.append(4)\n",
        "id(b)      # 주소값은 변경되지 않음"
      ],
      "execution_count": null,
      "outputs": [
        {
          "output_type": "execute_result",
          "data": {
            "text/plain": [
              "2262915866696"
            ]
          },
          "metadata": {
            "tags": []
          },
          "execution_count": 210
        }
      ]
    },
    {
      "cell_type": "code",
      "metadata": {
        "id": "pnzRBgGku2wg",
        "outputId": "53782682-cf4a-48dc-90b2-52e6701f0d68"
      },
      "source": [
        "help('id') \n",
        "#CPython (de facto) 종류는 많으나 메모리 주소값을 알려주는데 C이기 때문에 첫번째 주소값을 불러옴"
      ],
      "execution_count": null,
      "outputs": [
        {
          "output_type": "stream",
          "text": [
            "Help on built-in function id in module builtins:\n",
            "\n",
            "id(obj, /)\n",
            "    Return the identity of an object.\n",
            "    \n",
            "    This is guaranteed to be unique among simultaneously existing objects.\n",
            "    (CPython uses the object's memory address.)\n",
            "\n"
          ],
          "name": "stdout"
        }
      ]
    },
    {
      "cell_type": "code",
      "metadata": {
        "id": "9GFEtsdFu2wg",
        "outputId": "013b4259-fb12-4be9-e1a5-898f3c6d00de"
      },
      "source": [
        "a=[1,2,3]\n",
        "id(a)"
      ],
      "execution_count": null,
      "outputs": [
        {
          "output_type": "execute_result",
          "data": {
            "text/plain": [
              "2262916023688"
            ]
          },
          "metadata": {
            "tags": []
          },
          "execution_count": 220
        }
      ]
    },
    {
      "cell_type": "code",
      "metadata": {
        "id": "6GzVl3MFu2wh"
      },
      "source": [
        "a=[1,2,3,4]"
      ],
      "execution_count": null,
      "outputs": []
    },
    {
      "cell_type": "code",
      "metadata": {
        "id": "BA4fpFJZu2wh",
        "outputId": "b6c59bac-d153-4024-df84-3965dff7b6df"
      },
      "source": [
        "id(a)  #재할당하면 주소값은 변경"
      ],
      "execution_count": null,
      "outputs": [
        {
          "output_type": "execute_result",
          "data": {
            "text/plain": [
              "2262916141640"
            ]
          },
          "metadata": {
            "tags": []
          },
          "execution_count": 222
        }
      ]
    },
    {
      "cell_type": "markdown",
      "metadata": {
        "id": "NabxlsPQu2wh"
      },
      "source": [
        "-  a  -> [1,2,3]   \n",
        "      -> [1,2,3,4] \n",
        " - [1,2,3] 더 이상 참조하지 않으면 garbage collector 정리"
      ]
    },
    {
      "cell_type": "code",
      "metadata": {
        "id": "XLb2u16fu2wh"
      },
      "source": [
        "import gc #garbage collector"
      ],
      "execution_count": null,
      "outputs": []
    },
    {
      "cell_type": "code",
      "metadata": {
        "id": "fDpcCAXiu2wh",
        "outputId": "748f3801-27f1-45e0-adfa-bcab88b236fd"
      },
      "source": [
        "help(gc)"
      ],
      "execution_count": null,
      "outputs": [
        {
          "output_type": "stream",
          "text": [
            "Help on built-in module gc:\n",
            "\n",
            "NAME\n",
            "    gc - This module provides access to the garbage collector for reference cycles.\n",
            "\n",
            "MODULE REFERENCE\n",
            "    https://docs.python.org/3.7/library/gc\n",
            "    \n",
            "    The following documentation is automatically generated from the Python\n",
            "    source files.  It may be incomplete, incorrect or include features that\n",
            "    are considered implementation detail and may vary between Python\n",
            "    implementations.  When in doubt, consult the module reference at the\n",
            "    location listed above.\n",
            "\n",
            "DESCRIPTION\n",
            "    enable() -- Enable automatic garbage collection.\n",
            "    disable() -- Disable automatic garbage collection.\n",
            "    isenabled() -- Returns true if automatic collection is enabled.\n",
            "    collect() -- Do a full collection right now.\n",
            "    get_count() -- Return the current collection counts.\n",
            "    get_stats() -- Return list of dictionaries containing per-generation stats.\n",
            "    set_debug() -- Set debugging flags.\n",
            "    get_debug() -- Get debugging flags.\n",
            "    set_threshold() -- Set the collection thresholds.\n",
            "    get_threshold() -- Return the current the collection thresholds.\n",
            "    get_objects() -- Return a list of all objects tracked by the collector.\n",
            "    is_tracked() -- Returns true if a given object is tracked.\n",
            "    get_referrers() -- Return the list of objects that refer to an object.\n",
            "    get_referents() -- Return the list of objects that an object refers to.\n",
            "    freeze() -- Freeze all tracked objects and ignore them for future collections.\n",
            "    unfreeze() -- Unfreeze all objects in the permanent generation.\n",
            "    get_freeze_count() -- Return the number of objects in the permanent generation.\n",
            "\n",
            "FUNCTIONS\n",
            "    collect(generation=2)\n",
            "        Run the garbage collector.\n",
            "        \n",
            "        With no arguments, run a full collection.  The optional argument\n",
            "        may be an integer specifying which generation to collect.  A ValueError\n",
            "        is raised if the generation number is invalid.\n",
            "        \n",
            "        The number of unreachable objects is returned.\n",
            "    \n",
            "    disable()\n",
            "        Disable automatic garbage collection.\n",
            "    \n",
            "    enable()\n",
            "        Enable automatic garbage collection.\n",
            "    \n",
            "    freeze()\n",
            "        Freeze all current tracked objects and ignore them for future collections.\n",
            "        \n",
            "        This can be used before a POSIX fork() call to make the gc copy-on-write friendly.\n",
            "        Note: collection before a POSIX fork() call may free pages for future allocation\n",
            "        which can cause copy-on-write.\n",
            "    \n",
            "    get_count()\n",
            "        Return a three-tuple of the current collection counts.\n",
            "    \n",
            "    get_debug()\n",
            "        Get the garbage collection debugging flags.\n",
            "    \n",
            "    get_freeze_count()\n",
            "        Return the number of objects in the permanent generation.\n",
            "    \n",
            "    get_objects()\n",
            "        Return a list of objects tracked by the collector (excluding the list returned).\n",
            "    \n",
            "    get_referents(...)\n",
            "        get_referents(*objs) -> list\n",
            "        Return the list of objects that are directly referred to by objs.\n",
            "    \n",
            "    get_referrers(...)\n",
            "        get_referrers(*objs) -> list\n",
            "        Return the list of objects that directly refer to any of objs.\n",
            "    \n",
            "    get_stats()\n",
            "        Return a list of dictionaries containing per-generation statistics.\n",
            "    \n",
            "    get_threshold()\n",
            "        Return the current collection thresholds.\n",
            "    \n",
            "    is_tracked(obj, /)\n",
            "        Returns true if the object is tracked by the garbage collector.\n",
            "        \n",
            "        Simple atomic objects will return false.\n",
            "    \n",
            "    isenabled()\n",
            "        Returns true if automatic garbage collection is enabled.\n",
            "    \n",
            "    set_debug(flags, /)\n",
            "        Set the garbage collection debugging flags.\n",
            "        \n",
            "          flags\n",
            "            An integer that can have the following bits turned on:\n",
            "              DEBUG_STATS - Print statistics during collection.\n",
            "              DEBUG_COLLECTABLE - Print collectable objects found.\n",
            "              DEBUG_UNCOLLECTABLE - Print unreachable but uncollectable objects\n",
            "                found.\n",
            "              DEBUG_SAVEALL - Save objects to gc.garbage rather than freeing them.\n",
            "              DEBUG_LEAK - Debug leaking programs (everything but STATS).\n",
            "        \n",
            "        Debugging information is written to sys.stderr.\n",
            "    \n",
            "    set_threshold(...)\n",
            "        set_threshold(threshold0, [threshold1, threshold2]) -> None\n",
            "        \n",
            "        Sets the collection thresholds.  Setting threshold0 to zero disables\n",
            "        collection.\n",
            "    \n",
            "    unfreeze()\n",
            "        Unfreeze all objects in the permanent generation.\n",
            "        \n",
            "        Put all objects in the permanent generation back into oldest generation.\n",
            "\n",
            "DATA\n",
            "    DEBUG_COLLECTABLE = 2\n",
            "    DEBUG_LEAK = 38\n",
            "    DEBUG_SAVEALL = 32\n",
            "    DEBUG_STATS = 1\n",
            "    DEBUG_UNCOLLECTABLE = 4\n",
            "    callbacks = []\n",
            "    garbage = []\n",
            "\n",
            "FILE\n",
            "    (built-in)\n",
            "\n",
            "\n"
          ],
          "name": "stdout"
        }
      ]
    },
    {
      "cell_type": "code",
      "metadata": {
        "id": "47VU0z_Iu2wi",
        "outputId": "1274cc0a-538a-4cf8-e2e5-213140771262"
      },
      "source": [
        "c=range(10) \n",
        "c"
      ],
      "execution_count": null,
      "outputs": [
        {
          "output_type": "execute_result",
          "data": {
            "text/plain": [
              "range(0, 10)"
            ]
          },
          "metadata": {
            "tags": []
          },
          "execution_count": 228
        }
      ]
    },
    {
      "cell_type": "code",
      "metadata": {
        "id": "ypDwtb5Bu2wi",
        "outputId": "04f28b2b-cba0-4375-cc79-9d3ca0ecfff6"
      },
      "source": [
        "range(10)[3] #sequence homogeneous container"
      ],
      "execution_count": null,
      "outputs": [
        {
          "output_type": "execute_result",
          "data": {
            "text/plain": [
              "3"
            ]
          },
          "metadata": {
            "tags": []
          },
          "execution_count": 227
        }
      ]
    },
    {
      "cell_type": "code",
      "metadata": {
        "scrolled": true,
        "id": "Whnd6c-wu2wi",
        "outputId": "0c3d1816-2e08-427a-9167-a829fb035a72"
      },
      "source": [
        "len(c) #container "
      ],
      "execution_count": null,
      "outputs": [
        {
          "output_type": "execute_result",
          "data": {
            "text/plain": [
              "10"
            ]
          },
          "metadata": {
            "tags": []
          },
          "execution_count": 229
        }
      ]
    }
  ]
}